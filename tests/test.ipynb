{
 "cells": [
  {
   "cell_type": "code",
   "execution_count": 2,
   "metadata": {},
   "outputs": [
    {
     "name": "stdout",
     "output_type": "stream",
     "text": [
      "[2024-04-03 12:24:36] [warning  ] 加载开发模块 M.python.v0 ..\n",
      "[2024-04-03 12:24:36] [info     ] python.v0 开始运行..\n",
      "hello run\n",
      "post_run\n",
      "[2024-04-03 12:24:36] [info     ] python.v0 运行完成[0.183s].\n"
     ]
    }
   ],
   "source": [
    "from bigmodule import M\n",
    "\n",
    "def run(input_1, input_2, input_3):\n",
    "    print(\"hello run\")\n",
    "    return {\"data\": \"hello\"}\n",
    "\n",
    "def post_run(outputs):\n",
    "    print(\"post_run\")\n",
    "    return outputs\n",
    "\n",
    "m = M.python.v0(run=run, post_run_outputs_=post_run)"
   ]
  }
 ],
 "metadata": {
  "kernelspec": {
   "display_name": "Python 3",
   "language": "python",
   "name": "python3"
  },
  "language_info": {
   "codemirror_mode": {
    "name": "ipython",
    "version": 3
   },
   "file_extension": ".py",
   "mimetype": "text/x-python",
   "name": "python",
   "nbconvert_exporter": "python",
   "pygments_lexer": "ipython3",
   "version": "3.11.8"
  },
  "orig_nbformat": 4
 },
 "nbformat": 4,
 "nbformat_minor": 2
}
